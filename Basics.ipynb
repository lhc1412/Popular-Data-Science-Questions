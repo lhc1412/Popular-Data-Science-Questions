{
 "cells": [
  {
   "cell_type": "markdown",
   "metadata": {
    "collapsed": true
   },
   "source": [
    "# Popular Data Science Questions\n",
    "\n",
    "In this project, I am going to find out the most popular data science questions in [Stack Exchange](https://datascience.stackexchange.com/). Stack Exchange hosts sites on a multitude of fields and subjects, including mathematics, physics, philosophy, and data science. Data Science Stack Exchange (DSSE) is the source of the database of this project.\n",
    "\n",
    "### Summary of results\n",
    "- The most used tag is machine_learning. It has been used 2693 times, about 30% of all the questions. The second and third most used tag are python and deep-learning respectively.\n",
    "- The most viewed tag is python. the posts with this tag have been viewed in total 537585 times. The second and third most used tag are machine-learning and keras respectively."
   ]
  },
  {
   "cell_type": "markdown",
   "metadata": {},
   "source": [
    "## Reading in Data"
   ]
  },
  {
   "cell_type": "code",
   "execution_count": 168,
   "metadata": {
    "collapsed": false
   },
   "outputs": [],
   "source": [
    "import pandas as pd\n",
    "import matplotlib.pyplot as plt\n",
    "\n",
    "%matplotlib inline\n",
    "\n",
    "# read in csv, parse date columns\n",
    "questions = pd.read_csv('2019_questions.csv', parse_dates = ['CreationDate'])"
   ]
  },
  {
   "cell_type": "markdown",
   "metadata": {},
   "source": [
    "## Exploring the data"
   ]
  },
  {
   "cell_type": "code",
   "execution_count": 169,
   "metadata": {
    "collapsed": false
   },
   "outputs": [
    {
     "data": {
      "text/html": [
       "<div>\n",
       "<style scoped>\n",
       "    .dataframe tbody tr th:only-of-type {\n",
       "        vertical-align: middle;\n",
       "    }\n",
       "\n",
       "    .dataframe tbody tr th {\n",
       "        vertical-align: top;\n",
       "    }\n",
       "\n",
       "    .dataframe thead th {\n",
       "        text-align: right;\n",
       "    }\n",
       "</style>\n",
       "<table border=\"1\" class=\"dataframe\">\n",
       "  <thead>\n",
       "    <tr style=\"text-align: right;\">\n",
       "      <th></th>\n",
       "      <th>Id</th>\n",
       "      <th>CreationDate</th>\n",
       "      <th>Score</th>\n",
       "      <th>ViewCount</th>\n",
       "      <th>Tags</th>\n",
       "      <th>AnswerCount</th>\n",
       "      <th>FavoriteCount</th>\n",
       "    </tr>\n",
       "  </thead>\n",
       "  <tbody>\n",
       "    <tr>\n",
       "      <th>0</th>\n",
       "      <td>44419</td>\n",
       "      <td>2019-01-23 09:21:13</td>\n",
       "      <td>1</td>\n",
       "      <td>21</td>\n",
       "      <td>&lt;machine-learning&gt;&lt;data-mining&gt;</td>\n",
       "      <td>0</td>\n",
       "      <td>NaN</td>\n",
       "    </tr>\n",
       "    <tr>\n",
       "      <th>1</th>\n",
       "      <td>44420</td>\n",
       "      <td>2019-01-23 09:34:01</td>\n",
       "      <td>0</td>\n",
       "      <td>25</td>\n",
       "      <td>&lt;machine-learning&gt;&lt;regression&gt;&lt;linear-regressi...</td>\n",
       "      <td>0</td>\n",
       "      <td>NaN</td>\n",
       "    </tr>\n",
       "    <tr>\n",
       "      <th>2</th>\n",
       "      <td>44423</td>\n",
       "      <td>2019-01-23 09:58:41</td>\n",
       "      <td>2</td>\n",
       "      <td>1651</td>\n",
       "      <td>&lt;python&gt;&lt;time-series&gt;&lt;forecast&gt;&lt;forecasting&gt;</td>\n",
       "      <td>0</td>\n",
       "      <td>NaN</td>\n",
       "    </tr>\n",
       "    <tr>\n",
       "      <th>3</th>\n",
       "      <td>44427</td>\n",
       "      <td>2019-01-23 10:57:09</td>\n",
       "      <td>0</td>\n",
       "      <td>55</td>\n",
       "      <td>&lt;machine-learning&gt;&lt;scikit-learn&gt;&lt;pca&gt;</td>\n",
       "      <td>1</td>\n",
       "      <td>NaN</td>\n",
       "    </tr>\n",
       "    <tr>\n",
       "      <th>4</th>\n",
       "      <td>44428</td>\n",
       "      <td>2019-01-23 11:02:15</td>\n",
       "      <td>0</td>\n",
       "      <td>19</td>\n",
       "      <td>&lt;dataset&gt;&lt;bigdata&gt;&lt;data&gt;&lt;speech-to-text&gt;</td>\n",
       "      <td>0</td>\n",
       "      <td>NaN</td>\n",
       "    </tr>\n",
       "  </tbody>\n",
       "</table>\n",
       "</div>"
      ],
      "text/plain": [
       "      Id        CreationDate  Score  ViewCount  \\\n",
       "0  44419 2019-01-23 09:21:13      1         21   \n",
       "1  44420 2019-01-23 09:34:01      0         25   \n",
       "2  44423 2019-01-23 09:58:41      2       1651   \n",
       "3  44427 2019-01-23 10:57:09      0         55   \n",
       "4  44428 2019-01-23 11:02:15      0         19   \n",
       "\n",
       "                                                Tags  AnswerCount  \\\n",
       "0                    <machine-learning><data-mining>            0   \n",
       "1  <machine-learning><regression><linear-regressi...            0   \n",
       "2       <python><time-series><forecast><forecasting>            0   \n",
       "3              <machine-learning><scikit-learn><pca>            1   \n",
       "4           <dataset><bigdata><data><speech-to-text>            0   \n",
       "\n",
       "   FavoriteCount  \n",
       "0            NaN  \n",
       "1            NaN  \n",
       "2            NaN  \n",
       "3            NaN  \n",
       "4            NaN  "
      ]
     },
     "execution_count": 169,
     "metadata": {},
     "output_type": "execute_result"
    }
   ],
   "source": [
    "# show the first few rows\n",
    "questions.head()"
   ]
  },
  {
   "cell_type": "code",
   "execution_count": 170,
   "metadata": {
    "collapsed": false
   },
   "outputs": [
    {
     "name": "stdout",
     "output_type": "stream",
     "text": [
      "<class 'pandas.core.frame.DataFrame'>\n",
      "RangeIndex: 8839 entries, 0 to 8838\n",
      "Data columns (total 7 columns):\n",
      "Id               8839 non-null int64\n",
      "CreationDate     8839 non-null datetime64[ns]\n",
      "Score            8839 non-null int64\n",
      "ViewCount        8839 non-null int64\n",
      "Tags             8839 non-null object\n",
      "AnswerCount      8839 non-null int64\n",
      "FavoriteCount    1407 non-null float64\n",
      "dtypes: datetime64[ns](1), float64(1), int64(4), object(1)\n",
      "memory usage: 483.5+ KB\n"
     ]
    }
   ],
   "source": [
    "# explore the columns\n",
    "questions.info()"
   ]
  },
  {
   "cell_type": "markdown",
   "metadata": {},
   "source": [
    "We can see that missing values exist in FavoriteCount. For all 8839 entries, there are only 1407 values in FavoriteCount. For entries with with no value in FavourCount, it's believed that the post do not exist in any user's 'favourite' list. Therefore, the missing values can be replaced with zero.\n",
    "\n",
    "The types of columns seem adequate. However, the type of FavourCount can be changed to integar.\n",
    "\n",
    "On Stack Exchange, every post can have maximum 5 tags. The column Tags can be changed to a list with tags."
   ]
  },
  {
   "cell_type": "markdown",
   "metadata": {},
   "source": [
    "## Cleaning data"
   ]
  },
  {
   "cell_type": "code",
   "execution_count": 171,
   "metadata": {
    "collapsed": false
   },
   "outputs": [
    {
     "name": "stdout",
     "output_type": "stream",
     "text": [
      "<class 'pandas.core.frame.DataFrame'>\n",
      "RangeIndex: 8839 entries, 0 to 8838\n",
      "Data columns (total 8 columns):\n",
      "Id                8839 non-null int64\n",
      "CreationDate      8839 non-null datetime64[ns]\n",
      "Score             8839 non-null int64\n",
      "ViewCount         8839 non-null int64\n",
      "Tags              8839 non-null object\n",
      "AnswerCount       8839 non-null int64\n",
      "FavoriteCount     8839 non-null float64\n",
      "FavouriteCount    8839 non-null int64\n",
      "dtypes: datetime64[ns](1), float64(1), int64(5), object(1)\n",
      "memory usage: 552.5+ KB\n"
     ]
    }
   ],
   "source": [
    "# fill in missing data\n",
    "questions['FavoriteCount'].fillna(0, inplace = True)\n",
    "# update column type\n",
    "questions['FavouriteCount'] = questions['FavoriteCount'].astype(int)\n",
    "\n",
    "# confirm results\n",
    "\n",
    "questions.info()"
   ]
  },
  {
   "cell_type": "code",
   "execution_count": 172,
   "metadata": {
    "collapsed": false
   },
   "outputs": [
    {
     "data": {
      "text/html": [
       "<div>\n",
       "<style scoped>\n",
       "    .dataframe tbody tr th:only-of-type {\n",
       "        vertical-align: middle;\n",
       "    }\n",
       "\n",
       "    .dataframe tbody tr th {\n",
       "        vertical-align: top;\n",
       "    }\n",
       "\n",
       "    .dataframe thead th {\n",
       "        text-align: right;\n",
       "    }\n",
       "</style>\n",
       "<table border=\"1\" class=\"dataframe\">\n",
       "  <thead>\n",
       "    <tr style=\"text-align: right;\">\n",
       "      <th></th>\n",
       "      <th>Id</th>\n",
       "      <th>CreationDate</th>\n",
       "      <th>Score</th>\n",
       "      <th>ViewCount</th>\n",
       "      <th>Tags</th>\n",
       "      <th>AnswerCount</th>\n",
       "      <th>FavoriteCount</th>\n",
       "      <th>FavouriteCount</th>\n",
       "    </tr>\n",
       "  </thead>\n",
       "  <tbody>\n",
       "    <tr>\n",
       "      <th>0</th>\n",
       "      <td>44419</td>\n",
       "      <td>2019-01-23 09:21:13</td>\n",
       "      <td>1</td>\n",
       "      <td>21</td>\n",
       "      <td>[machine-learning, data-mining]</td>\n",
       "      <td>0</td>\n",
       "      <td>0.0</td>\n",
       "      <td>0</td>\n",
       "    </tr>\n",
       "    <tr>\n",
       "      <th>1</th>\n",
       "      <td>44420</td>\n",
       "      <td>2019-01-23 09:34:01</td>\n",
       "      <td>0</td>\n",
       "      <td>25</td>\n",
       "      <td>[machine-learning, regression, linear-regressi...</td>\n",
       "      <td>0</td>\n",
       "      <td>0.0</td>\n",
       "      <td>0</td>\n",
       "    </tr>\n",
       "    <tr>\n",
       "      <th>2</th>\n",
       "      <td>44423</td>\n",
       "      <td>2019-01-23 09:58:41</td>\n",
       "      <td>2</td>\n",
       "      <td>1651</td>\n",
       "      <td>[python, time-series, forecast, forecasting]</td>\n",
       "      <td>0</td>\n",
       "      <td>0.0</td>\n",
       "      <td>0</td>\n",
       "    </tr>\n",
       "    <tr>\n",
       "      <th>3</th>\n",
       "      <td>44427</td>\n",
       "      <td>2019-01-23 10:57:09</td>\n",
       "      <td>0</td>\n",
       "      <td>55</td>\n",
       "      <td>[machine-learning, scikit-learn, pca]</td>\n",
       "      <td>1</td>\n",
       "      <td>0.0</td>\n",
       "      <td>0</td>\n",
       "    </tr>\n",
       "    <tr>\n",
       "      <th>4</th>\n",
       "      <td>44428</td>\n",
       "      <td>2019-01-23 11:02:15</td>\n",
       "      <td>0</td>\n",
       "      <td>19</td>\n",
       "      <td>[dataset, bigdata, data, speech-to-text]</td>\n",
       "      <td>0</td>\n",
       "      <td>0.0</td>\n",
       "      <td>0</td>\n",
       "    </tr>\n",
       "  </tbody>\n",
       "</table>\n",
       "</div>"
      ],
      "text/plain": [
       "      Id        CreationDate  Score  ViewCount  \\\n",
       "0  44419 2019-01-23 09:21:13      1         21   \n",
       "1  44420 2019-01-23 09:34:01      0         25   \n",
       "2  44423 2019-01-23 09:58:41      2       1651   \n",
       "3  44427 2019-01-23 10:57:09      0         55   \n",
       "4  44428 2019-01-23 11:02:15      0         19   \n",
       "\n",
       "                                                Tags  AnswerCount  \\\n",
       "0                    [machine-learning, data-mining]            0   \n",
       "1  [machine-learning, regression, linear-regressi...            0   \n",
       "2       [python, time-series, forecast, forecasting]            0   \n",
       "3              [machine-learning, scikit-learn, pca]            1   \n",
       "4           [dataset, bigdata, data, speech-to-text]            0   \n",
       "\n",
       "   FavoriteCount  FavouriteCount  \n",
       "0            0.0               0  \n",
       "1            0.0               0  \n",
       "2            0.0               0  \n",
       "3            0.0               0  \n",
       "4            0.0               0  "
      ]
     },
     "execution_count": 172,
     "metadata": {},
     "output_type": "execute_result"
    }
   ],
   "source": [
    "# modify Tags column\n",
    "questions['Tags'] = questions['Tags'].str.replace('^<|>$', '').str.split('><')\n",
    "questions.head()"
   ]
  },
  {
   "cell_type": "markdown",
   "metadata": {},
   "source": [
    "## Most used and most viewed tags\n",
    "\n",
    "In this session, the most used tags will be found out. The number of views will be counted to determine the most popular tags."
   ]
  },
  {
   "cell_type": "code",
   "execution_count": 173,
   "metadata": {
    "collapsed": false
   },
   "outputs": [],
   "source": [
    "# create empty tag_count dict\n",
    "tag_count = {}\n",
    "\n",
    "# use for loop to count tags\n",
    "for tags in questions['Tags']:\n",
    "    for tag in tags:\n",
    "        if tag in tag_count:\n",
    "            tag_count[tag] += 1\n",
    "        else:\n",
    "            tag_count[tag] = 1\n",
    "\n",
    "# convert tag_count to DataFrame\n",
    "tag_count = pd.DataFrame.from_dict(tag_count, orient = 'index')\n",
    "# name column to counts\n",
    "tag_count = tag_count.rename(columns = {0: 'counts'})"
   ]
  },
  {
   "cell_type": "code",
   "execution_count": 174,
   "metadata": {
    "collapsed": false
   },
   "outputs": [
    {
     "data": {
      "text/html": [
       "<div>\n",
       "<style scoped>\n",
       "    .dataframe tbody tr th:only-of-type {\n",
       "        vertical-align: middle;\n",
       "    }\n",
       "\n",
       "    .dataframe tbody tr th {\n",
       "        vertical-align: top;\n",
       "    }\n",
       "\n",
       "    .dataframe thead th {\n",
       "        text-align: right;\n",
       "    }\n",
       "</style>\n",
       "<table border=\"1\" class=\"dataframe\">\n",
       "  <thead>\n",
       "    <tr style=\"text-align: right;\">\n",
       "      <th></th>\n",
       "      <th>counts</th>\n",
       "    </tr>\n",
       "  </thead>\n",
       "  <tbody>\n",
       "    <tr>\n",
       "      <th>machine-learning</th>\n",
       "      <td>2693</td>\n",
       "    </tr>\n",
       "    <tr>\n",
       "      <th>python</th>\n",
       "      <td>1814</td>\n",
       "    </tr>\n",
       "    <tr>\n",
       "      <th>deep-learning</th>\n",
       "      <td>1220</td>\n",
       "    </tr>\n",
       "    <tr>\n",
       "      <th>neural-network</th>\n",
       "      <td>1055</td>\n",
       "    </tr>\n",
       "    <tr>\n",
       "      <th>keras</th>\n",
       "      <td>935</td>\n",
       "    </tr>\n",
       "    <tr>\n",
       "      <th>classification</th>\n",
       "      <td>685</td>\n",
       "    </tr>\n",
       "    <tr>\n",
       "      <th>tensorflow</th>\n",
       "      <td>584</td>\n",
       "    </tr>\n",
       "    <tr>\n",
       "      <th>scikit-learn</th>\n",
       "      <td>540</td>\n",
       "    </tr>\n",
       "    <tr>\n",
       "      <th>nlp</th>\n",
       "      <td>493</td>\n",
       "    </tr>\n",
       "    <tr>\n",
       "      <th>cnn</th>\n",
       "      <td>489</td>\n",
       "    </tr>\n",
       "    <tr>\n",
       "      <th>time-series</th>\n",
       "      <td>466</td>\n",
       "    </tr>\n",
       "    <tr>\n",
       "      <th>lstm</th>\n",
       "      <td>402</td>\n",
       "    </tr>\n",
       "    <tr>\n",
       "      <th>pandas</th>\n",
       "      <td>354</td>\n",
       "    </tr>\n",
       "    <tr>\n",
       "      <th>regression</th>\n",
       "      <td>347</td>\n",
       "    </tr>\n",
       "    <tr>\n",
       "      <th>dataset</th>\n",
       "      <td>340</td>\n",
       "    </tr>\n",
       "    <tr>\n",
       "      <th>r</th>\n",
       "      <td>268</td>\n",
       "    </tr>\n",
       "    <tr>\n",
       "      <th>predictive-modeling</th>\n",
       "      <td>265</td>\n",
       "    </tr>\n",
       "    <tr>\n",
       "      <th>clustering</th>\n",
       "      <td>257</td>\n",
       "    </tr>\n",
       "    <tr>\n",
       "      <th>statistics</th>\n",
       "      <td>234</td>\n",
       "    </tr>\n",
       "    <tr>\n",
       "      <th>machine-learning-model</th>\n",
       "      <td>224</td>\n",
       "    </tr>\n",
       "  </tbody>\n",
       "</table>\n",
       "</div>"
      ],
      "text/plain": [
       "                        counts\n",
       "machine-learning          2693\n",
       "python                    1814\n",
       "deep-learning             1220\n",
       "neural-network            1055\n",
       "keras                      935\n",
       "classification             685\n",
       "tensorflow                 584\n",
       "scikit-learn               540\n",
       "nlp                        493\n",
       "cnn                        489\n",
       "time-series                466\n",
       "lstm                       402\n",
       "pandas                     354\n",
       "regression                 347\n",
       "dataset                    340\n",
       "r                          268\n",
       "predictive-modeling        265\n",
       "clustering                 257\n",
       "statistics                 234\n",
       "machine-learning-model     224"
      ]
     },
     "execution_count": 174,
     "metadata": {},
     "output_type": "execute_result"
    }
   ],
   "source": [
    "# sort values by counts\n",
    "tag_count.sort_values(by = 'counts', ascending = False, inplace = True)\n",
    "\n",
    "# show the top 10 most used tags\n",
    "tag_count.head(10)"
   ]
  },
  {
   "cell_type": "code",
   "execution_count": 175,
   "metadata": {
    "collapsed": false
   },
   "outputs": [
    {
     "data": {
      "text/plain": [
       "<matplotlib.axes._subplots.AxesSubplot at 0x7fa06ac9e5f8>"
      ]
     },
     "execution_count": 175,
     "metadata": {},
     "output_type": "execute_result"
    },
    {
     "data": {
      "image/png": "[encoded data removed]",
      "text/plain": [
       "<matplotlib.figure.Figure at 0x7fa06aab1ba8>"
      ]
     },
     "metadata": {},
     "output_type": "display_data"
    }
   ],
   "source": [
    "# plot bar chart showing most used tags\n",
    "tag_count.head(20).plot(kind = 'barh')"
   ]
  },
  {
   "cell_type": "markdown",
   "metadata": {},
   "source": [
    "The most used tag is machine_learning. It has been used 2693 times, about 30% of all the questions. The second and third most used tag are python and deep-learning respectively.\n",
    "\n",
    "Now we will count how many times each tag was viewed."
   ]
  },
  {
   "cell_type": "code",
   "execution_count": 176,
   "metadata": {
    "collapsed": false
   },
   "outputs": [],
   "source": [
    "# create empty tag_view_count dict\n",
    "tag_view_count = {}\n",
    "\n",
    "# use for loop to count tag views\n",
    "for row in questions.itertuples(): # or iterrows\n",
    "    for tag in row.Tags:\n",
    "        if tag in tag_view_count:\n",
    "            tag_view_count[tag] += row.ViewCount\n",
    "        else:\n",
    "            tag_view_count[tag] = row.ViewCount\n",
    "\n",
    "# convert tag_count to DataFrame\n",
    "tag_view_count = pd.DataFrame.from_dict(tag_view_count, orient = 'Index')\n",
    "# name column to view_count\n",
    "tag_view_count.rename(columns = {0: 'view_counts'}, inplace = True)"
   ]
  },
  {
   "cell_type": "code",
   "execution_count": 177,
   "metadata": {
    "collapsed": false
   },
   "outputs": [
    {
     "data": {
      "text/html": [
       "<div>\n",
       "<style scoped>\n",
       "    .dataframe tbody tr th:only-of-type {\n",
       "        vertical-align: middle;\n",
       "    }\n",
       "\n",
       "    .dataframe tbody tr th {\n",
       "        vertical-align: top;\n",
       "    }\n",
       "\n",
       "    .dataframe thead th {\n",
       "        text-align: right;\n",
       "    }\n",
       "</style>\n",
       "<table border=\"1\" class=\"dataframe\">\n",
       "  <thead>\n",
       "    <tr style=\"text-align: right;\">\n",
       "      <th></th>\n",
       "      <th>view_counts</th>\n",
       "    </tr>\n",
       "  </thead>\n",
       "  <tbody>\n",
       "    <tr>\n",
       "      <th>python</th>\n",
       "      <td>537585</td>\n",
       "    </tr>\n",
       "    <tr>\n",
       "      <th>machine-learning</th>\n",
       "      <td>388499</td>\n",
       "    </tr>\n",
       "    <tr>\n",
       "      <th>keras</th>\n",
       "      <td>268608</td>\n",
       "    </tr>\n",
       "    <tr>\n",
       "      <th>deep-learning</th>\n",
       "      <td>233628</td>\n",
       "    </tr>\n",
       "    <tr>\n",
       "      <th>pandas</th>\n",
       "      <td>201787</td>\n",
       "    </tr>\n",
       "    <tr>\n",
       "      <th>neural-network</th>\n",
       "      <td>185367</td>\n",
       "    </tr>\n",
       "    <tr>\n",
       "      <th>scikit-learn</th>\n",
       "      <td>128110</td>\n",
       "    </tr>\n",
       "    <tr>\n",
       "      <th>tensorflow</th>\n",
       "      <td>121369</td>\n",
       "    </tr>\n",
       "    <tr>\n",
       "      <th>classification</th>\n",
       "      <td>104457</td>\n",
       "    </tr>\n",
       "    <tr>\n",
       "      <th>dataframe</th>\n",
       "      <td>89352</td>\n",
       "    </tr>\n",
       "    <tr>\n",
       "      <th>lstm</th>\n",
       "      <td>74458</td>\n",
       "    </tr>\n",
       "    <tr>\n",
       "      <th>nlp</th>\n",
       "      <td>71382</td>\n",
       "    </tr>\n",
       "    <tr>\n",
       "      <th>cnn</th>\n",
       "      <td>70349</td>\n",
       "    </tr>\n",
       "    <tr>\n",
       "      <th>time-series</th>\n",
       "      <td>64134</td>\n",
       "    </tr>\n",
       "    <tr>\n",
       "      <th>numpy</th>\n",
       "      <td>49767</td>\n",
       "    </tr>\n",
       "    <tr>\n",
       "      <th>regression</th>\n",
       "      <td>49451</td>\n",
       "    </tr>\n",
       "    <tr>\n",
       "      <th>dataset</th>\n",
       "      <td>43151</td>\n",
       "    </tr>\n",
       "    <tr>\n",
       "      <th>pytorch</th>\n",
       "      <td>40240</td>\n",
       "    </tr>\n",
       "    <tr>\n",
       "      <th>csv</th>\n",
       "      <td>38654</td>\n",
       "    </tr>\n",
       "    <tr>\n",
       "      <th>clustering</th>\n",
       "      <td>33928</td>\n",
       "    </tr>\n",
       "  </tbody>\n",
       "</table>\n",
       "</div>"
      ],
      "text/plain": [
       "                  view_counts\n",
       "python                 537585\n",
       "machine-learning       388499\n",
       "keras                  268608\n",
       "deep-learning          233628\n",
       "pandas                 201787\n",
       "neural-network         185367\n",
       "scikit-learn           128110\n",
       "tensorflow             121369\n",
       "classification         104457\n",
       "dataframe               89352\n",
       "lstm                    74458\n",
       "nlp                     71382\n",
       "cnn                     70349\n",
       "time-series             64134\n",
       "numpy                   49767\n",
       "regression              49451\n",
       "dataset                 43151\n",
       "pytorch                 40240\n",
       "csv                     38654\n",
       "clustering              33928"
      ]
     },
     "execution_count": 177,
     "metadata": {},
     "output_type": "execute_result"
    }
   ],
   "source": [
    "# sort list by view counts\n",
    "tag_view_count.sort_values(by = 'view_counts', ascending = False, inplace = True)\n",
    "\n",
    "# show the top 10 most viewed tags\n",
    "tag_view_count.head(10)"
   ]
  },
  {
   "cell_type": "code",
   "execution_count": 178,
   "metadata": {
    "collapsed": false
   },
   "outputs": [
    {
     "data": {
      "text/plain": [
       "<matplotlib.axes._subplots.AxesSubplot at 0x7fa06ada55c0>"
      ]
     },
     "execution_count": 178,
     "metadata": {},
     "output_type": "execute_result"
    },
    {
     "data": {
      "image/png": "[encoded data removed]",
      "text/plain": [
       "<matplotlib.figure.Figure at 0x7fa06ad9f518>"
      ]
     },
     "metadata": {},
     "output_type": "display_data"
    }
   ],
   "source": [
    "# plot bar chart showing most viewed tags\n",
    "tag_view_count.head(10).plot(kind = 'barh')"
   ]
  },
  {
   "cell_type": "markdown",
   "metadata": {},
   "source": [
    "The most viewed tag is python. the posts with this tag have been viewed in total 537585 times. The second and third most used tag are machine-learning and keras respectively."
   ]
  },
  {
   "cell_type": "markdown",
   "metadata": {},
   "source": [
    "## Interim conclusion\n",
    "\n",
    "So far I have found out the most used and most viewed tags in Data Science Stack Exchange (DSSE).\n",
    "\n",
    "## Further study\n",
    "\n",
    "For further study, I will find the relationships between tags and the growth path of data science topics."
   ]
  }
 ],
 "metadata": {
  "kernelspec": {
   "display_name": "Python 3",
   "language": "python",
   "name": "python3"
  },
  "language_info": {
   "codemirror_mode": {
    "name": "ipython",
    "version": 3
   },
   "file_extension": ".py",
   "mimetype": "text/x-python",
   "name": "python",
   "nbconvert_exporter": "python",
   "pygments_lexer": "ipython3",
   "version": "3.4.3"
  }
 },
 "nbformat": 4,
 "nbformat_minor": 2
}
